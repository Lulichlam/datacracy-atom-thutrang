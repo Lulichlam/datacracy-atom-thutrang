{
  "nbformat": 4,
  "nbformat_minor": 0,
  "metadata": {
    "colab": {
      "name": "Slack-Data.ipynb",
      "provenance": [],
      "collapsed_sections": []
    },
    "kernelspec": {
      "name": "python373jvsc74a57bd07945e9a82d7512fbf96246d9bbc29cd2f106c1a4a9cf54c9563dadf10f2237d4",
      "display_name": "Python 3.7.3 64-bit"
    },
    "language_info": {
      "name": "python",
      "version": "3.7.3"
    },
    "metadata": {
      "interpreter": {
        "hash": "7945e9a82d7512fbf96246d9bbc29cd2f106c1a4a9cf54c9563dadf10f2237d4"
      }
    }
  },
  "cells": [
    {
      "cell_type": "markdown",
      "metadata": {
        "id": "4w2e0D-hni2p"
      },
      "source": [
        "# HOME ASSIGNMENT #3: SLACK API - TO GSHEET"
      ]
    },
    {
      "cell_type": "markdown",
      "metadata": {
        "id": "yitICPVzpRI2"
      },
      "source": [
        "## 0. Load Modules"
      ]
    },
    {
      "cell_type": "code",
      "metadata": {
        "id": "G_HCucZ5rSHq"
      },
      "source": [
        "import requests #-> Để gọi API\n",
        "import re #-> Để xử lý data dạng string\n",
        "from datetime import datetime as dt #-> Để xử lý data dạng datetime\n",
        "import gspread #-> Để update data lên Google Spreadsheet\n",
        "from gspread_dataframe import set_with_dataframe #-> Để update data lên Google Spreadsheet\n",
        "import pandas as pd #-> Để update data dạng bản\n",
        "import json \n",
        "from oauth2client.service_account import ServiceAccountCredentials #-> Để nhập Google Spreadsheet Credentials\n",
        "import os\n",
        "print(\"done\")"
      ],
      "execution_count": 2,
      "outputs": [
        {
          "output_type": "stream",
          "name": "stdout",
          "text": [
            "done\n"
          ]
        }
      ]
    },
    {
      "cell_type": "code",
      "metadata": {
        "id": "tFPqT2pirhy4"
      },
      "source": [
        "with open('env_variable.json', 'r') as j:\n",
        "    json_data = json.load(j)"
      ],
      "execution_count": 3,
      "outputs": []
    },
    {
      "cell_type": "code",
      "metadata": {
        "id": "wAzmaVTLrpvH"
      },
      "source": [
        "## Load SLACK_BEARER_TOKEN\n",
        "os.environ['SLACK_BEARER_TOKEN'] = json_data['SLACK_BEARER_TOKEN'] "
      ],
      "execution_count": 4,
      "outputs": []
    },
    {
      "cell_type": "code",
      "metadata": {
        "id": "K_TrDTx138jD"
      },
      "source": [
        "## Gọi API từ Endpoints (Input - Token được đưa vào Headers)\n",
        "## Challenge: Thử gọi API này bằng Postman\n",
        "endpoint = \"https://slack.com/api/users.list\"\n",
        "headers = {\"Authorization\": \"Bearer {}\".format(os.environ['SLACK_BEARER_TOKEN'])}\n",
        "response_json = requests.post(endpoint, headers=headers).json() \n",
        "user_dat = response_json['members']"
      ],
      "execution_count": 5,
      "outputs": []
    },
    {
      "cell_type": "markdown",
      "metadata": {
        "id": "rqEti4Y50tdB"
      },
      "source": [
        "### TODO #1\n",
        "Hoàn tất đoạn code sau"
      ]
    },
    {
      "cell_type": "code",
      "metadata": {
        "id": "P0qbkdhtD9ww"
      },
      "source": [
        "## Loop qua JSON file và extract các thông tin quan trọng (id, name, display_name, real_name_normalized, title, phone, is_bot)\n",
        "## Hint: Bạn có thể dùng Postman hoặc in user_dat JSON để xem cấu trúc (schema), dùng Ctrl+F để tìm các keys (id, name, display_name, real_name_normalized, title, phone, is_bot)\n",
        "user_dict = {'user_id':[], 'name':[], 'display_name':[],'real_name':[],'title':[],'phone':[],'is_bot':[]}\n",
        "for i in range(len(user_dat)):\n",
        "  user_dict['user_id'].append(user_dat[i]['id'])\n",
        "  user_dict['name'].append(user_dat[i]['name'])\n",
        "  user_dict['display_name'].append(user_dat[i]['profile']['display_name'])\n",
        "  user_dict['real_name'].append(user_dat[i]['profile']['real_name_normalized'])\n",
        "  user_dict['title'].append(user_dat[i]['profile']['title'])\n",
        "  user_dict['phone'].append(user_dat[i]['profile']['phone'])\n",
        "  user_dict['is_bot'].append(user_dat[i]['is_bot'])"
      ],
      "execution_count": 5,
      "outputs": []
    },
    {
      "cell_type": "code",
      "metadata": {
        "colab": {
          "base_uri": "https://localhost:8080/",
          "height": 204
        },
        "id": "yGNvsCauF8_w",
        "outputId": "dfc4c6f7-845c-4202-8fc7-43aeb328554a"
      },
      "source": [
        "user_df = pd.DataFrame(user_dict) ## Dùng pandas để convert dictionaries thành bảng\n",
        "user_df.head(5) ## Chỉ in 5 dòng đầu (chủ yếu để xem cấu trúc)"
      ],
      "execution_count": 6,
      "outputs": [
        {
          "output_type": "execute_result",
          "data": {
            "text/plain": [
              "       user_id               name       display_name           real_name  \\\n",
              "0    USLACKBOT           slackbot           Slackbot            Slackbot   \n",
              "1  U01AT4T75JB     loclexuan26392        Loc Le Xuan         Loc Le Xuan   \n",
              "2  U01AVDY7JET           locle.ds        Loc Le Xuan         Loc Le Xuan   \n",
              "3  U01BE2PR6LU     maianhdang.ftu                MAD  Dặng Huỳnh Mai Anh   \n",
              "4  U01C48T7S1J  huyenhoang.design  Thanh Huyen Hoang   Thanh Huyen Hoang   \n",
              "\n",
              "                title phone  is_bot  \n",
              "0                             False  \n",
              "1                             False  \n",
              "2                             False  \n",
              "3  Technical Contents         False  \n",
              "4                             False  "
            ],
            "text/html": "<div>\n<style scoped>\n    .dataframe tbody tr th:only-of-type {\n        vertical-align: middle;\n    }\n\n    .dataframe tbody tr th {\n        vertical-align: top;\n    }\n\n    .dataframe thead th {\n        text-align: right;\n    }\n</style>\n<table border=\"1\" class=\"dataframe\">\n  <thead>\n    <tr style=\"text-align: right;\">\n      <th></th>\n      <th>user_id</th>\n      <th>name</th>\n      <th>display_name</th>\n      <th>real_name</th>\n      <th>title</th>\n      <th>phone</th>\n      <th>is_bot</th>\n    </tr>\n  </thead>\n  <tbody>\n    <tr>\n      <td>0</td>\n      <td>USLACKBOT</td>\n      <td>slackbot</td>\n      <td>Slackbot</td>\n      <td>Slackbot</td>\n      <td></td>\n      <td></td>\n      <td>False</td>\n    </tr>\n    <tr>\n      <td>1</td>\n      <td>U01AT4T75JB</td>\n      <td>loclexuan26392</td>\n      <td>Loc Le Xuan</td>\n      <td>Loc Le Xuan</td>\n      <td></td>\n      <td></td>\n      <td>False</td>\n    </tr>\n    <tr>\n      <td>2</td>\n      <td>U01AVDY7JET</td>\n      <td>locle.ds</td>\n      <td>Loc Le Xuan</td>\n      <td>Loc Le Xuan</td>\n      <td></td>\n      <td></td>\n      <td>False</td>\n    </tr>\n    <tr>\n      <td>3</td>\n      <td>U01BE2PR6LU</td>\n      <td>maianhdang.ftu</td>\n      <td>MAD</td>\n      <td>Dặng Huỳnh Mai Anh</td>\n      <td>Technical Contents</td>\n      <td></td>\n      <td>False</td>\n    </tr>\n    <tr>\n      <td>4</td>\n      <td>U01C48T7S1J</td>\n      <td>huyenhoang.design</td>\n      <td>Thanh Huyen Hoang</td>\n      <td>Thanh Huyen Hoang</td>\n      <td></td>\n      <td></td>\n      <td>False</td>\n    </tr>\n  </tbody>\n</table>\n</div>"
          },
          "metadata": {},
          "execution_count": 6
        }
      ]
    },
    {
      "cell_type": "code",
      "metadata": {
        "colab": {
          "base_uri": "https://localhost:8080/",
          "height": 80
        },
        "id": "rjFcaWdt2ABM",
        "outputId": "1a114985-7608-4421-aa51-1e406cc427eb"
      },
      "source": [
        "user_df[user_df.display_name == 'MAD'] ## Lọc thông tin của MAD, trên DataFrame (bạn có thể Google thêm)"
      ],
      "execution_count": 7,
      "outputs": [
        {
          "output_type": "execute_result",
          "data": {
            "text/plain": [
              "       user_id            name display_name           real_name  \\\n",
              "3  U01BE2PR6LU  maianhdang.ftu          MAD  Dặng Huỳnh Mai Anh   \n",
              "\n",
              "                title phone  is_bot  \n",
              "3  Technical Contents         False  "
            ],
            "text/html": "<div>\n<style scoped>\n    .dataframe tbody tr th:only-of-type {\n        vertical-align: middle;\n    }\n\n    .dataframe tbody tr th {\n        vertical-align: top;\n    }\n\n    .dataframe thead th {\n        text-align: right;\n    }\n</style>\n<table border=\"1\" class=\"dataframe\">\n  <thead>\n    <tr style=\"text-align: right;\">\n      <th></th>\n      <th>user_id</th>\n      <th>name</th>\n      <th>display_name</th>\n      <th>real_name</th>\n      <th>title</th>\n      <th>phone</th>\n      <th>is_bot</th>\n    </tr>\n  </thead>\n  <tbody>\n    <tr>\n      <td>3</td>\n      <td>U01BE2PR6LU</td>\n      <td>maianhdang.ftu</td>\n      <td>MAD</td>\n      <td>Dặng Huỳnh Mai Anh</td>\n      <td>Technical Contents</td>\n      <td></td>\n      <td>False</td>\n    </tr>\n  </tbody>\n</table>\n</div>"
          },
          "metadata": {},
          "execution_count": 7
        }
      ]
    },
    {
      "cell_type": "code",
      "execution_count": 8,
      "metadata": {},
      "outputs": [
        {
          "output_type": "execute_result",
          "data": {
            "text/plain": [
              "        user_id            name display_name  real_name title phone  is_bot\n",
              "23  U01UJ9MUADT  lovelylife.158               Thu Trang               False"
            ],
            "text/html": "<div>\n<style scoped>\n    .dataframe tbody tr th:only-of-type {\n        vertical-align: middle;\n    }\n\n    .dataframe tbody tr th {\n        vertical-align: top;\n    }\n\n    .dataframe thead th {\n        text-align: right;\n    }\n</style>\n<table border=\"1\" class=\"dataframe\">\n  <thead>\n    <tr style=\"text-align: right;\">\n      <th></th>\n      <th>user_id</th>\n      <th>name</th>\n      <th>display_name</th>\n      <th>real_name</th>\n      <th>title</th>\n      <th>phone</th>\n      <th>is_bot</th>\n    </tr>\n  </thead>\n  <tbody>\n    <tr>\n      <td>23</td>\n      <td>U01UJ9MUADT</td>\n      <td>lovelylife.158</td>\n      <td></td>\n      <td>Thu Trang</td>\n      <td></td>\n      <td></td>\n      <td>False</td>\n    </tr>\n  </tbody>\n</table>\n</div>"
          },
          "metadata": {},
          "execution_count": 8
        }
      ],
      "source": [
        "user_df[user_df.name == 'lovelylife.158']"
      ]
    },
    {
      "cell_type": "markdown",
      "metadata": {
        "id": "1TZrcaWZyE07"
      },
      "source": [
        "-------------- HẾT PHẦN BẮT BUỘC ---------------------"
      ]
    },
    {
      "cell_type": "markdown",
      "metadata": {
        "id": "P3_b7zw-1A6s"
      },
      "source": [
        "## Option 1: Update data => Google SpreadSheet"
      ]
    },
    {
      "cell_type": "code",
      "metadata": {
        "colab": {
          "base_uri": "https://localhost:8080/"
        },
        "id": "4NEQFu-DNvFC",
        "outputId": "a855fe34-b409-4152-a218-67bfa240396f"
      },
      "source": [
        "## Authorize bằng JSON\n",
        "scope = ['https://spreadsheets.google.com/feeds',\n",
        "         'https://www.googleapis.com/auth/drive']\n",
        "credentials = ServiceAccountCredentials.from_json_keyfile_name(\n",
        "    'assignment3-gg.json', scope)\n",
        "gc = gspread.authorize(credentials)\n",
        "print(\"DONE!\")"
      ],
      "execution_count": 6,
      "outputs": [
        {
          "output_type": "stream",
          "name": "stdout",
          "text": [
            "DONE!\n"
          ]
        }
      ]
    },
    {
      "cell_type": "code",
      "metadata": {
        "id": "XlZ8JNB3bZbw"
      },
      "source": [
        "# ACCES GOOGLE SHEET\n",
        "sheet_index_no = 0\n",
        "spreadsheet_key = '1pXjtLvF6yLv33htSd-B8UgoLkV99vdAZPJ1Yj3lhoIY' # input SPREADSHEET_KEY HERE\n",
        "sh = gc.open_by_key(spreadsheet_key)\n",
        "worksheet = sh.get_worksheet(sheet_index_no) #-> 0 - first sheet, 1 - second sheet etc. \n",
        "\n",
        "# APPEND DATA TO SHEET\n",
        "set_with_dataframe(worksheet, user_df) #-> Upload user_df vào Sheet đầu tiên trong Spreadsheet\n",
        "\n",
        "# DONE: Bây giờ bạn có thể mở spreadsheet và kiểm tra nội dung đã update chứ"
      ],
      "execution_count": 24,
      "outputs": []
    },
    {
      "cell_type": "markdown",
      "metadata": {
        "id": "5I15m3ilyA3Y"
      },
      "source": [
        "Result: https://docs.google.com/spreadsheets/d/1pXjtLvF6yLv33htSd-B8UgoLkV99vdAZPJ1Yj3lhoIY/edit?usp=sharing\n"
      ]
    },
    {
      "cell_type": "markdown",
      "metadata": {
        "id": "9aRN9KSczkmr"
      },
      "source": [
        "## Option 2: Ai đã nộp bài?\n"
      ]
    },
    {
      "cell_type": "markdown",
      "metadata": {
        "id": "Pw81ioUz2N0v"
      },
      "source": [
        "### Slack API: Channel List"
      ]
    },
    {
      "cell_type": "code",
      "metadata": {
        "id": "fcdaDaGdz60p"
      },
      "source": [
        "## Gọi SLACK API để list tất cả các channel\n",
        "endpoint = \"https://slack.com/api/conversations.list\"\n",
        "headers = {\"Authorization\": \"Bearer {}\".format(os.environ['SLACK_BEARER_TOKEN'])}\n",
        "response = requests.post(endpoint, headers=headers).json() \n",
        "channel_ls = response['channels']"
      ],
      "execution_count": 8,
      "outputs": []
    },
    {
      "cell_type": "code",
      "metadata": {
        "colab": {
          "base_uri": "https://localhost:8080/"
        },
        "id": "47dUJAPi0Jg5",
        "outputId": "2762f1e8-ff65-4994-c3e5-1ab0f5dc9205"
      },
      "source": [
        "channel_ls[2] ## Thử extract record đầu tiên để xem schema  => name: general, id: C01B4PVGLVB"
      ],
      "execution_count": 15,
      "outputs": [
        {
          "output_type": "execute_result",
          "data": {
            "text/plain": [
              "{'id': 'C01CAMNCJJV',\n",
              " 'name': 'branding-design',\n",
              " 'is_channel': True,\n",
              " 'is_group': False,\n",
              " 'is_im': False,\n",
              " 'created': 1601867790,\n",
              " 'is_archived': False,\n",
              " 'is_general': False,\n",
              " 'unlinked': 0,\n",
              " 'name_normalized': 'branding-design',\n",
              " 'is_shared': False,\n",
              " 'parent_conversation': None,\n",
              " 'creator': 'U01AVDY7JET',\n",
              " 'is_ext_shared': False,\n",
              " 'is_org_shared': False,\n",
              " 'shared_team_ids': ['T01B7SGGMLJ'],\n",
              " 'pending_shared': [],\n",
              " 'pending_connected_team_ids': [],\n",
              " 'is_pending_ext_shared': False,\n",
              " 'is_member': False,\n",
              " 'is_private': False,\n",
              " 'is_mpim': False,\n",
              " 'topic': {'value': '', 'creator': '', 'last_set': 0},\n",
              " 'purpose': {'value': '', 'creator': '', 'last_set': 0},\n",
              " 'previous_names': [],\n",
              " 'num_members': 9}"
            ]
          },
          "metadata": {},
          "execution_count": 15
        }
      ]
    },
    {
      "cell_type": "markdown",
      "metadata": {
        "id": "CNFTcFC00l8g"
      },
      "source": [
        "### TODO#3 \n",
        "* Tìm id của channel #atom-assignment2"
      ]
    },
    {
      "cell_type": "code",
      "execution_count": 25,
      "metadata": {},
      "outputs": [
        {
          "output_type": "stream",
          "name": "stdout",
          "text": [
            "C021FSDN7LJ\n"
          ]
        }
      ],
      "source": [
        "for c in range(len(channel_ls)):\n",
        "    if channel_ls[c]['name']=='atom-assignment2':\n",
        "        print(channel_ls[c]['id'])\n"
      ]
    },
    {
      "cell_type": "markdown",
      "metadata": {
        "id": "EnCvdYAn2R47"
      },
      "source": [
        "### Slack API: List messages trong 1 channel"
      ]
    },
    {
      "cell_type": "code",
      "metadata": {
        "id": "1UsSESN8rtnk"
      },
      "source": [
        "endpoint = \"https://slack.com/api/conversations.history\"\n",
        "data = {\"channel\": \"C021FSDN7LJ\"} ## This is ID of assignment#2 channel\n",
        "headers = {\"Authorization\": \"Bearer {}\".format(os.environ['SLACK_BEARER_TOKEN'])}"
      ],
      "execution_count": 26,
      "outputs": []
    },
    {
      "cell_type": "code",
      "metadata": {
        "id": "i8eJw3LBr4lY"
      },
      "source": [
        "response_json = requests.post(endpoint, data=data, headers=headers).json()\n",
        "msg_ls = response_json['messages']"
      ],
      "execution_count": 27,
      "outputs": []
    },
    {
      "cell_type": "code",
      "metadata": {
        "colab": {
          "base_uri": "https://localhost:8080/"
        },
        "id": "KkYO1KcBtZa9",
        "outputId": "7a76397b-202b-445e-aa26-f4b30cfc9a53"
      },
      "source": [
        "msg_ls[24]"
      ],
      "execution_count": 35,
      "outputs": [
        {
          "output_type": "execute_result",
          "data": {
            "text/plain": [
              "{'client_msg_id': '501b9821-d10a-4312-a417-29489cba6e67',\n",
              " 'type': 'message',\n",
              " 'text': 'Mình gửi assignment 2 nhé\\n<https://github.com/cnhhoang850/atom-assignments>',\n",
              " 'user': 'U01UJ9M3P1T',\n",
              " 'ts': '1621044117.003500',\n",
              " 'team': 'T01B7SGGMLJ',\n",
              " 'attachments': [{'fallback': 'cnhhoang850/atom-assignments',\n",
              "   'text': 'Data skills &amp; Quantitative methods - DATAcracy ATOM workshop',\n",
              "   'title': 'cnhhoang850/atom-assignments',\n",
              "   'id': 1,\n",
              "   'color': '24292f',\n",
              "   'fields': [{'title': 'Language',\n",
              "     'value': 'Jupyter Notebook',\n",
              "     'short': True},\n",
              "    {'title': 'Last updated', 'value': '4 minutes ago', 'short': True}],\n",
              "   'bot_id': 'B01UQU8E2A3',\n",
              "   'app_unfurl_url': 'https://github.com/cnhhoang850/atom-assignments',\n",
              "   'is_app_unfurl': True}],\n",
              " 'blocks': [{'type': 'rich_text',\n",
              "   'block_id': 'MOT0D',\n",
              "   'elements': [{'type': 'rich_text_section',\n",
              "     'elements': [{'type': 'text', 'text': 'Mình gửi assignment 2 nhé\\n'},\n",
              "      {'type': 'link',\n",
              "       'url': 'https://github.com/cnhhoang850/atom-assignments'}]}]}],\n",
              " 'thread_ts': '1621044117.003500',\n",
              " 'reply_count': 1,\n",
              " 'reply_users_count': 1,\n",
              " 'latest_reply': '1621647727.009000',\n",
              " 'reply_users': ['U01UMJ5AQ0K'],\n",
              " 'is_locked': False,\n",
              " 'subscribed': False,\n",
              " 'reactions': [{'name': 'white_check_mark',\n",
              "   'users': ['U01UMJ5AQ0K'],\n",
              "   'count': 1}]}"
            ]
          },
          "metadata": {},
          "execution_count": 35
        }
      ]
    },
    {
      "cell_type": "code",
      "execution_count": 42,
      "metadata": {},
      "outputs": [
        {
          "output_type": "execute_result",
          "data": {
            "text/plain": [
              "True"
            ]
          },
          "metadata": {},
          "execution_count": 42
        }
      ],
      "source": [
        "\"github.com\" in msg_ls[24]['text']"
      ]
    },
    {
      "cell_type": "code",
      "metadata": {
        "id": "BsW8CXAXv-tC"
      },
      "source": [
        "not_learners_id = ['U01BE2PR6LU']"
      ],
      "execution_count": 12,
      "outputs": []
    },
    {
      "cell_type": "code",
      "execution_count": 49,
      "metadata": {},
      "outputs": [
        {
          "output_type": "stream",
          "name": "stdout",
          "text": [
            "2021-05-22 12:39:34.015500 U01UTGRMGEQ 1 ['U01UTGRMGEQ'] 2021-05-22 21:18:58.019900 https://github.com/nguyenhonghanh2511/\n2021-05-21 11:24:09.003100 U01U6JQB695 1 ['U01UTGRMGEQ'] 2021-05-22 21:18:58.019900 https://github.com/Tenderriver/\n2021-05-20 18:19:34.017100 U01KDQJ9FCG 2 ['U01UTGT8CVA', 'U01KDQJ9FCG'] 2021-05-21 11:53:35.005600 https://github.com/phanlinh0803/\n2021-05-20 07:19:34.008100 U01UMBX2X18 2 ['U01UTGT8CVA', 'U01KDQJ9FCG'] 2021-05-21 11:53:35.005600 https://github.com/thienphu71/\n2021-05-19 21:53:45.005800 U01USGKQ771 1 ['U01UTGT8CVA'] 2021-05-21 09:15:19.000700 https://github.com/TrangNgo1709/\n2021-05-17 22:36:43.012800 U01UMJ5AQ0K 1 ['U01UTGT8CVA'] 2021-05-21 09:15:19.000700 https://github.com/duongphannamhung/\n2021-05-17 07:28:18.005500 U01UTGRMGEQ 1 ['U01UJ9MUADT'] 2021-05-23 10:19:20.022200 https://github.com/nguyenhonghanh2511/\n2021-05-16 04:43:27.006100 U01V00KHHHP 3 ['U01UMC0N5U2', 'U01V00KHHHP', 'U01V082PLN5'] 2021-05-22 13:22:25.016600 https://github.com/saturn1101/\n2021-05-15 09:12:58.004500 U01UMBZHU2W 2 ['U01V00KHHHP', 'U01UMBZHU2W'] 2021-05-16 19:19:46.003100 https://github.com/tinyvyy/\n2021-05-15 09:01:57.003500 U01UJ9M3P1T 1 ['U01UMJ5AQ0K'] 2021-05-22 08:42:07.009000 https://github.com/cnhhoang850/\n2021-05-15 08:46:39.002700 U01UJ9LG5U5 2 ['U01UTGRMGEQ', 'U01UJ9LG5U5'] 2021-05-22 21:40:22.020100 https://github.com/danhpcv/\n2021-05-15 08:44:55.002400 U01VB63LRNC 1 ['U01UMJ36QD9'] 2021-05-19 22:14:47.007100 https://github.com/AnhThuNguyenHuynh/\n2021-05-15 07:04:33.001600 U01UJ9M5TU5 1 ['U01UTGRMGEQ'] 2021-05-22 21:09:48.019200 https://github.com/minhnguyentk95/\n2021-05-15 06:54:46.001200 U01UJ9P1S3X 2 ['U01V00JK9LH', 'U01V082PLN5'] 2021-05-22 13:20:45.016200 https://github.com/lethuthao1368/\n2021-05-15 03:11:15.024800 U01UJ9MUADT 2 ['U01VB632FPS', 'U01UJ9MUADT'] 2021-05-23 09:51:30.021600 https://github.com/Lulichlam/\n2021-05-15 03:11:09.024600 U01UEJFMUSJ 1 ['U01VB632FPS'] 2021-05-20 22:45:36.019900 https://github.com/nhduonng2803/\n2021-05-15 01:19:09.023700 U01V00JK9LH 2 ['U01UMJ36QD9', 'U01V00JK9LH'] 2021-05-21 12:31:12.006200 https://github.com/phamdinhtuan200382/\n2021-05-15 01:14:27.022900 U01UTGVPE7N 2 ['U01UMJ36QD9', 'U01V00JK9LH'] 2021-05-21 12:31:12.006200 https://github.com/hoaintp/\n2021-05-15 00:31:14.022400 U01UTGRQS9J 2 ['U01UTGS5ZNY', 'U01UTGRQS9J'] 2021-05-17 16:31:44.008000 https://github.com/vukhanhlinh/\n2021-05-15 00:13:57.021200 U01UTGS5ZNY 1 ['U01UJ9MUADT'] 2021-05-23 10:08:34.021800 https://github.com/ngochant/\n2021-05-14 23:57:51.019900 U01UMJ451V1 3 ['U01UMJ451V1', 'U01UMC0N5U2', 'U01UMJ36QD9'] 2021-05-21 21:25:32.007200 https://github.com/annaho124/\n2021-05-14 23:48:44.019400 U01VB632FPS 2 ['U01V00KHHHP', 'U01VB632FPS'] 2021-05-16 21:08:55.003600 https://github.com/Ha-Huynh-Anh/\n2021-05-14 23:17:59.017400 U01UJ9NKX8D 2 ['U01V00KHHHP', 'U01VB632FPS'] 2021-05-16 21:08:55.003600 https://github.com/lienanh264/\n2021-05-14 22:41:06.016300 U01UJ9PA0MB 1 ['U01UTGS5ZNY'] 2021-05-17 10:23:24.006200 https://github.com/hongdoi/\n2021-05-14 22:07:52.015600 U01UMBW8G8J 2 ['U01UTGVPE7N', 'U01UMBW8G8J'] 2021-05-22 20:07:02.018300 https://github.com/ngocvu74/\n2021-05-14 21:48:22.014500 U01UMC0N5U2 3 ['U01UMJ36QD9', 'U01UMC0N5U2', 'U01UMBW8G8J'] 2021-05-22 19:30:18.017600 https://github.com/chuviethongfpt/\n2021-05-14 00:24:49.011300 U01UTGT8CVA 1 ['U01UMJ451V1'] 2021-05-21 21:10:06.006600 https://github.com/ngttnguyen/\n2021-05-13 22:51:39.010600 U01UJ9PRT5K 1 ['U01UJ9PRT5K'] 2021-05-16 10:26:14.000100 https://github.com/hieulam1312/\n2021-05-13 11:08:52.003400 U01V00P4S2V 1 ['U01UMC0N5U2'] 2021-05-21 11:40:21.004900 https://github.com/vuthanhdatt/\n2021-05-13 05:31:16.001900 U01V082PLN5 1 ['U01V00P4S2V'] 2021-05-23 09:40:51.021200 https://github.com/interphuoc/\n2021-05-13 01:19:36.006800 U01UMJ36QD9 2 ['U01V00JK9LH', 'U01UMJ36QD9'] 2021-05-21 09:35:46.002000 https://github.com/Quan030994/\n2021-05-13 00:34:12.006100 U01UEJG8KHU 1 ['U01V00P4S2V'] 2021-05-23 09:13:54.020700 https://github.com/trangnguyen-n3t/\n2021-05-12 22:50:48.004000 U01UQGZHSTZ 1 ['U01BE2PR6LU'] 2021-05-13 07:54:35.001100 https://github.com/toantran2206/\n"
          ]
        }
      ],
      "source": [
        "sub = {'SubTime':[], 'user ID submit':[], 'User ID review':[],'latest reply':[],'link github':[]}\n",
        "for i in range(len(msg_ls)):\n",
        "    ts = dt.fromtimestamp(float(msg_ls[i]['ts'])) # -> Convert timestamp Epoch thành dàng dễ đọc\n",
        "    user = msg_ls[i]['user'] # -> Lấy thông tin người post messages\n",
        "    if msg_ls[i]['user'] not in not_learners_id:\n",
        "        if \"github.com\" in msg_ls[i]['text']:\n",
        "            text = msg_ls[i]['text']\n",
        "            github_link = re.findall('(?:https?://)?(?:www[.])?github[.]com/[\\w-]+/?', text) #-> Submission là các message có link github\n",
        "            if len(github_link) > 0: github = github_link[0]\n",
        "            if 'reply_count' in msg_ls[i].keys(): reply_count = msg_ls[i]['reply_count'] #-> Extract số review\n",
        "            if 'reply_users_count' in msg_ls[i].keys(): reply_users_count = msg_ls[i]['reply_users_count']\n",
        "            if 'reply_users' in msg_ls[i].keys(): reply_users = msg_ls[i]['reply_users']\n",
        "            if 'latest_reply' in msg_ls[i].keys(): latest_reply = dt.fromtimestamp(float(msg_ls[i]['latest_reply']))\n",
        "            print(ts, user, reply_users_count, reply_users, latest_reply, github)\n",
        "\n",
        "            sub['SubTime'].append(ts)\n",
        "            sub['user ID submit'].append(user)\n",
        "            sub['User ID review'].append(reply_users)\n",
        "            sub['latest reply'].append(latest_reply)\n",
        "            sub['link github'].append(github)"
      ]
    },
    {
      "cell_type": "code",
      "execution_count": 54,
      "metadata": {},
      "outputs": [
        {
          "output_type": "execute_result",
          "data": {
            "text/plain": [
              "33"
            ]
          },
          "metadata": {},
          "execution_count": 54
        }
      ],
      "source": [
        "len(sub['SubTime'])"
      ]
    },
    {
      "cell_type": "code",
      "execution_count": 53,
      "metadata": {},
      "outputs": [
        {
          "output_type": "execute_result",
          "data": {
            "text/plain": [
              "                     SubTime user ID submit              User ID review  \\\n",
              "0 2021-05-22 12:39:34.015500    U01UTGRMGEQ               [U01UTGRMGEQ]   \n",
              "1 2021-05-21 11:24:09.003100    U01U6JQB695               [U01UTGRMGEQ]   \n",
              "2 2021-05-20 18:19:34.017100    U01KDQJ9FCG  [U01UTGT8CVA, U01KDQJ9FCG]   \n",
              "3 2021-05-20 07:19:34.008100    U01UMBX2X18  [U01UTGT8CVA, U01KDQJ9FCG]   \n",
              "4 2021-05-19 21:53:45.005800    U01USGKQ771               [U01UTGT8CVA]   \n",
              "\n",
              "                latest reply                             link github  \n",
              "0 2021-05-22 21:18:58.019900  https://github.com/nguyenhonghanh2511/  \n",
              "1 2021-05-22 21:18:58.019900         https://github.com/Tenderriver/  \n",
              "2 2021-05-21 11:53:35.005600        https://github.com/phanlinh0803/  \n",
              "3 2021-05-21 11:53:35.005600          https://github.com/thienphu71/  \n",
              "4 2021-05-21 09:15:19.000700        https://github.com/TrangNgo1709/  "
            ],
            "text/html": "<div>\n<style scoped>\n    .dataframe tbody tr th:only-of-type {\n        vertical-align: middle;\n    }\n\n    .dataframe tbody tr th {\n        vertical-align: top;\n    }\n\n    .dataframe thead th {\n        text-align: right;\n    }\n</style>\n<table border=\"1\" class=\"dataframe\">\n  <thead>\n    <tr style=\"text-align: right;\">\n      <th></th>\n      <th>SubTime</th>\n      <th>user ID submit</th>\n      <th>User ID review</th>\n      <th>latest reply</th>\n      <th>link github</th>\n    </tr>\n  </thead>\n  <tbody>\n    <tr>\n      <td>0</td>\n      <td>2021-05-22 12:39:34.015500</td>\n      <td>U01UTGRMGEQ</td>\n      <td>[U01UTGRMGEQ]</td>\n      <td>2021-05-22 21:18:58.019900</td>\n      <td>https://github.com/nguyenhonghanh2511/</td>\n    </tr>\n    <tr>\n      <td>1</td>\n      <td>2021-05-21 11:24:09.003100</td>\n      <td>U01U6JQB695</td>\n      <td>[U01UTGRMGEQ]</td>\n      <td>2021-05-22 21:18:58.019900</td>\n      <td>https://github.com/Tenderriver/</td>\n    </tr>\n    <tr>\n      <td>2</td>\n      <td>2021-05-20 18:19:34.017100</td>\n      <td>U01KDQJ9FCG</td>\n      <td>[U01UTGT8CVA, U01KDQJ9FCG]</td>\n      <td>2021-05-21 11:53:35.005600</td>\n      <td>https://github.com/phanlinh0803/</td>\n    </tr>\n    <tr>\n      <td>3</td>\n      <td>2021-05-20 07:19:34.008100</td>\n      <td>U01UMBX2X18</td>\n      <td>[U01UTGT8CVA, U01KDQJ9FCG]</td>\n      <td>2021-05-21 11:53:35.005600</td>\n      <td>https://github.com/thienphu71/</td>\n    </tr>\n    <tr>\n      <td>4</td>\n      <td>2021-05-19 21:53:45.005800</td>\n      <td>U01USGKQ771</td>\n      <td>[U01UTGT8CVA]</td>\n      <td>2021-05-21 09:15:19.000700</td>\n      <td>https://github.com/TrangNgo1709/</td>\n    </tr>\n  </tbody>\n</table>\n</div>"
          },
          "metadata": {},
          "execution_count": 53
        }
      ],
      "source": [
        "sub = pd.DataFrame(sub) ## Dùng pandas để convert dictionaries thành bảng\n",
        "sub.head(5) ## Chỉ in 5 dòng đầu (chủ yếu để xem cấu trúc)"
      ]
    },
    {
      "cell_type": "markdown",
      "metadata": {
        "id": "SgSC21qO3kKA"
      },
      "source": [
        "### TODO#4\n",
        "* Tạo thành 1 bảng chứa các thông tin trên và update lên Spreadsheet (Sheet: Assignment#2 Submission)"
      ]
    },
    {
      "cell_type": "code",
      "execution_count": 56,
      "metadata": {},
      "outputs": [],
      "source": [
        "ws2 = sh.add_worksheet(\"Assignment#2 Submit\",1000,256) #create new worksheet\n",
        "set_with_dataframe(ws2,sub) # APPEND DATA TO SHEET\n"
      ]
    },
    {
      "source": [
        "Result: https://docs.google.com/spreadsheets/d/1pXjtLvF6yLv33htSd-B8UgoLkV99vdAZPJ1Yj3lhoIY/edit?usp=sharing"
      ],
      "cell_type": "markdown",
      "metadata": {}
    }
  ]
}