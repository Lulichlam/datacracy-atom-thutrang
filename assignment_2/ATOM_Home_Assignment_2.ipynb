{
  "nbformat": 4,
  "nbformat_minor": 0,
  "metadata": {
    "colab": {
      "name": "ATOM | Home Assignment 2.ipynb",
      "provenance": [],
      "collapsed_sections": [],
      "toc_visible": true,
      "authorship_tag": "ABX9TyPr64JyVtUmUnV7MTJJnLmW",
      "include_colab_link": true
    },
    "kernelspec": {
      "name": "python373jvsc74a57bd07945e9a82d7512fbf96246d9bbc29cd2f106c1a4a9cf54c9563dadf10f2237d4",
      "display_name": "Python 3.7.3 64-bit"
    },
    "language_info": {
      "name": "python",
      "version": "3.7.3"
    },
    "metadata": {
      "interpreter": {
        "hash": "7945e9a82d7512fbf96246d9bbc29cd2f106c1a4a9cf54c9563dadf10f2237d4"
      }
    }
  },
  "cells": [
    {
      "cell_type": "code",
      "metadata": {
        "id": "j3Fv0NUdXyd1"
      },
      "source": [
        "#TO-DO-1\n",
        "import json\n",
        "with open('env_variable.json', 'r') as j:\n",
        "    json_data = json.load(j)\n",
        "    #print(json_data)\n",
        "\n",
        "import os\n",
        "os.environ['SENDER_EMAIL'] = json_data['SENDER_EMAIL'] ## INPUT: Your Email\n",
        "os.environ['PWD_EMAIL'] = json_data['PWD_EMAIL'] ## INPUT: Your App Password\n",
        "os.environ['WEATHER_API_KEY'] = json_data['WEATHER_API_KEY'] ## INPUT: OpenWeather API Key\n",
        "print('DONE! Get Env. Variable')\n",
        "\n",
        "import email, smtplib, ssl # to automate email\n",
        "import email as mail\n",
        "from email import encoders\n",
        "from email.mime.base import MIMEBase\n",
        "from email.mime.multipart import MIMEMultipart\n",
        "from email.mime.text import MIMEText\n",
        "\n",
        "import requests, json # to pull API, and work with json\n",
        "import datetime as dt # to work with date, time\n",
        "from bs4 import BeautifulSoup # to work with web scrapping (HTML)\n",
        "import pandas as pd # to work with tables (DataFrames) data\n",
        "from IPython.core.display import HTML # to display HTML in the notebook\n"
      ],
      "execution_count": 2,
      "outputs": [
        {
          "output_type": "stream",
          "name": "stdout",
          "text": [
            "DONE! Get Env. Variable\n"
          ]
        }
      ]
    },
    {
      "cell_type": "code",
      "execution_count": 40,
      "metadata": {},
      "outputs": [
        {
          "output_type": "stream",
          "name": "stdout",
          "text": [
            "shoppingwithlu2020@gmail.com\n"
          ]
        }
      ],
      "source": [
        "print(os.environ['SENDER_EMAIL'])"
      ]
    },
    {
      "cell_type": "markdown",
      "metadata": {
        "id": "LKXSTGhMiyGa"
      },
      "source": [
        "### TODO #2\n",
        "1.   Từ Email Bot Code viết function `send_email`:\n",
        "  - **inputs**: subject, receiver_email, part1, part2, part3\n",
        "  - **output**: thực hiện việc gửi email và in ra kết quả\n",
        "2.   Kết hợp Loops (For ... in) với function để gửi cùng nội dung email đến 1 list user: `email_list = ['abc@gmail.com', 'xyz@gmail.com']` (thay đổi email bằng các email thật của bạn để test)"
      ]
    },
    {
      "cell_type": "code",
      "metadata": {
        "id": "2YV6peDOmNkA"
      },
      "source": [
        "def send_email(receiver_email, subject, part1, part2, part3):\n",
        "  # YOUR CODE\n",
        "    sender_email = os.environ['SENDER_EMAIL']\n",
        "    password = os.environ['PWD_EMAIL'] \n",
        "\n",
        "    # (1) Create the email head (sender, receiver, and subject)\n",
        "    email = MIMEMultipart()\n",
        "    email[\"From\"] = sender_email\n",
        "    email[\"To\"] = receiver_email \n",
        "    email[\"Subject\"] = subject\n",
        "    #print(subject)\n",
        "\n",
        "    # (2) Create Body part\n",
        "    # We use html, you can convert word to html: https://wordtohtml.net/\n",
        "    html1 = \"\"\"\n",
        "        <html>\n",
        "        <h1><strong>Hello World</strong></h1>\n",
        "        <body>\n",
        "        <p>Hi!<br>\n",
        "          How are you?<br>\n",
        "          Here is the <a href=\"https://docs.python.org/3.4/library/email-examples.html\">link</a> you wanted.\n",
        "        </p>\n",
        "        </body>\n",
        "        </html>\n",
        "        \"\"\"\n",
        "    html2 = \"\"\"\n",
        "    <html>\n",
        "    Email sent at <b>{}</b><br>\n",
        "    </html>\n",
        "    \"\"\".format(dt.datetime.now().isoformat())\n",
        "\n",
        "    text3 = '--- End ----'\n",
        "\n",
        "    # Combine parts\n",
        "    part1 = MIMEText(html1, 'html')\n",
        "    part2 = MIMEText(html2, 'html')\n",
        "    part3 = MIMEText(part3, 'html')\n",
        "\n",
        "    email.attach(part1)\n",
        "    email.attach(part2)\n",
        "    email.attach(part3)\n",
        "\n",
        "    # (3) Create SMTP session for sending the mail\n",
        "    session = smtplib.SMTP('smtp.gmail.com', 587) #use gmail with port\n",
        "    session.starttls() #enable security\n",
        "    session.login(sender_email, password) #login with mail_id and password\n",
        "    text = email.as_string()\n",
        "    session.sendmail(sender_email, receiver_email, text)\n",
        "    session.quit()\n",
        "\n",
        "    print('DONE! Mail Sent'.format(sender_email, receiver_email))"
      ],
      "execution_count": 3,
      "outputs": []
    },
    {
      "cell_type": "code",
      "metadata": {
        "id": "4ydkiKUqmhMw"
      },
      "source": [
        "email_list = ['lovelylife.158@gmail.com','shoppingwithlu2020@gmail.com']\n",
        "for i in email_list:\n",
        "  # YOUR CODE\n",
        "  send_email(i,'Myemail', part1, part2, \"Have a nice week\")"
      ],
      "execution_count": 340,
      "outputs": [
        {
          "output_type": "stream",
          "name": "stdout",
          "text": [
            "DONE! Mail Sent\n",
            "DONE! Mail Sent\n"
          ]
        }
      ]
    },
    {
      "cell_type": "markdown",
      "metadata": {
        "id": "jbmpcldqGhuk"
      },
      "source": [
        "### TODO #3\n",
        "1. Trên file json kết quả:\n",
        "  - Lấy thông tin trạng thái thời tiết (weather) chính (main) ở London\n",
        "  - Lấy lat & lon (kinh độ và vĩ độ của London)\n",
        "2. Viết function `get_weather_data` \n",
        "  - inputs: city\n",
        "  - outputs: đoạn text thông tin thời tiết\n",
        "3. Dùng function `send_email` in **TODO #1**, thay phần 3 trong nội dùng email bằng thông tin thời tiết của London gửi cho 1 địa chỉ email của bạn"
      ]
    },
    {
      "cell_type": "code",
      "metadata": {
        "id": "p9tm-FzIoof1"
      },
      "source": [
        "# YOUR CODE\n",
        "print(data['weather'][0]['main']) #thời tiết (weather) chính (main) ở London\n",
        "print(data['coord']['lat']) #Lấy lat & lon (kinh độ và vĩ độ của London)\n",
        "print(data['coord']['lon'])\n"
      ],
      "execution_count": 342,
      "outputs": [
        {
          "output_type": "stream",
          "name": "stdout",
          "text": [
            "Clouds\n51.5085\n-0.1257\n"
          ]
        }
      ]
    },
    {
      "cell_type": "code",
      "metadata": {
        "id": "onTj-Et3o2PO"
      },
      "source": [
        "def get_weather_data(city):\n",
        "    BASE_URL = \"https://api.openweathermap.org/data/2.5/weather?\"    # City Name \n",
        "    CITY = city    # API key \n",
        "    API_KEY = os.environ['WEATHER_API_KEY']    # upadting the URL\n",
        "    URL = BASE_URL + \"q=\" + CITY + \"&appid=\" + API_KEY    # HTTP request\n",
        "    response = requests.get(URL)    # checking the status code of the request\n",
        "    weather = 'to be update'\n",
        "    if response.status_code == 200:      # getting data in the json format\n",
        "      data = response.json()      # getting the main dict block\n",
        "      main = data['main']      # getting temperature\n",
        "      temperature = str(main['temp'])      # getting the humidity\n",
        "      humidity = str(main['humidity'])      # getting the pressure\n",
        "      pressure = str(main['pressure'])      # weather report\n",
        "      report = data['name']\n",
        "      weather = 'City: '+data['name']+'<br>Temperature: '+ temperature +'<br>Humidity: '+humidity+'<br>Pressure: '+pressure+'<br>Weather Report: '+data['weather'][0]['main']\n",
        "    else:      # showing the error message\n",
        "      print(\"Error in the HTTP request\")\n",
        "      print(response)\n",
        "    return weather\n",
        "    \n",
        "\n",
        "from IPython.core.display import HTML\n",
        "HTML(get_weather_data('Hanoi'))\n"
      ],
      "execution_count": 10,
      "outputs": [
        {
          "output_type": "execute_result",
          "data": {
            "text/plain": [
              "<IPython.core.display.HTML object>"
            ],
            "text/html": "City: Hanoi<br>Temperature: 304.15<br>Humidity: 56<br>Pressure: 1004<br>Weather Report: Clouds"
          },
          "metadata": {},
          "execution_count": 10
        }
      ]
    },
    {
      "cell_type": "code",
      "execution_count": 156,
      "metadata": {},
      "outputs": [
        {
          "output_type": "stream",
          "name": "stdout",
          "text": [
            "DONE! Mail Sent\n"
          ]
        }
      ],
      "source": [
        "send_email('lovelylife.158@gmail.com',\"To-do-3\",part1,part2,get_weather_data('London'))"
      ]
    },
    {
      "cell_type": "markdown",
      "metadata": {
        "id": "d7YEfY3qqq10"
      },
      "source": [
        "### TODO #4\n",
        "1. Dùng function `send_email` in Excercise 1.1, thay phần 3 trong nội dùng email bằng thông tin COVID-19 từ Wikipedia gửi cho 1 địa chỉ email của bạn"
      ]
    },
    {
      "cell_type": "code",
      "execution_count": 343,
      "metadata": {},
      "outputs": [],
      "source": [
        "def get_news(articlelink): #funtion for getting news from link in wikipedia\n",
        "    response = requests.get(\n",
        "        url=articlelink,\n",
        "    )\n",
        "    soup = BeautifulSoup(response.content, 'html.parser')\n",
        "    p = soup.find(id=\"bodyContent\").find_all(\"p\") #find paragraph\n",
        "    for i in range(len(p)): #find 1st paragraph more than 5 word\n",
        "        if len(p[i])>5:\n",
        "            k = i\n",
        "            break\n",
        "    title = soup.find(id=\"firstHeading\")\n",
        "    Ref= \"Click here \"+ \"<a href=\"+articlelink+\">\"+title.string+\"</a>\" +\" for full article\"\n",
        "    return str(p[k])+Ref\n"
      ]
    },
    {
      "cell_type": "code",
      "execution_count": 354,
      "metadata": {},
      "outputs": [
        {
          "output_type": "execute_result",
          "data": {
            "text/plain": [
              "<IPython.core.display.HTML object>"
            ],
            "text/html": "<p><b>China</b>, officially the <b>People's Republic of China</b> (<b>PRC</b>), is a country in <a href=\"/wiki/East_Asia\" title=\"East Asia\">East Asia</a>. It is the world's <a href=\"/wiki/List_of_countries_and_dependencies_by_population\" title=\"List of countries and dependencies by population\">most populous country</a>, with a population of around 1.4 billion.<sup class=\"reference\" id=\"cite_ref-govPPL_23-0\"><a href=\"#cite_note-govPPL-23\">[13]</a></sup> China covers an area of approximately 9.6 million square kilometers (3.7 million mi<sup>2</sup>), it is the world's <a href=\"/wiki/List_of_countries_and_dependencies_by_area\" title=\"List of countries and dependencies by area\">third or fourth-largest country</a>.<sup class=\"reference\" id=\"cite_ref-29\"><a href=\"#cite_note-29\">[k]</a></sup> \nThe country is officially divided into 23 <a href=\"/wiki/Provinces_of_China\" title=\"Provinces of China\">provinces</a>,<sup class=\"reference\" id=\"cite_ref-30\"><a href=\"#cite_note-30\">[l]</a></sup><sup class=\"reference\" id=\"cite_ref-31\"><a href=\"#cite_note-31\">[19]</a></sup> five <a href=\"/wiki/Autonomous_regions_of_China\" title=\"Autonomous regions of China\">autonomous regions</a>, four <a href=\"/wiki/Direct-administered_municipalities_of_China\" title=\"Direct-administered municipalities of China\">direct-controlled municipalities</a> (<a href=\"/wiki/Beijing\" title=\"Beijing\">Beijing</a>, <a href=\"/wiki/Tianjin\" title=\"Tianjin\">Tianjin</a>, <a href=\"/wiki/Shanghai\" title=\"Shanghai\">Shanghai</a>, and <a href=\"/wiki/Chongqing\" title=\"Chongqing\">Chongqing</a>), and two <a href=\"/wiki/Special_administrative_regions_of_China\" title=\"Special administrative regions of China\">special administrative regions</a> of <a href=\"/wiki/Hong_Kong\" title=\"Hong Kong\">Hong Kong</a> and <a href=\"/wiki/Macau\" title=\"Macau\">Macau</a>.\n</p>Click here <a href=https://en.wikipedia.org/wiki/China>China</a> for full article"
          },
          "metadata": {},
          "execution_count": 354
        }
      ],
      "source": [
        "HTML(get_news(\"https://en.wikipedia.org/wiki/China\")) #example of funtion results"
      ]
    },
    {
      "cell_type": "code",
      "execution_count": 358,
      "metadata": {},
      "outputs": [
        {
          "output_type": "stream",
          "name": "stdout",
          "text": [
            "API Status Code: 403\nb'<html>\\r\\n<head><title>403 Forbidden</title></head>\\r\\n<body>\\r\\n<center><h1>403 Forbidden</h1></center>\\r\\n<hr><center>nginx</center>\\r\\n</body>\\r\\n</html>\\r\\n'\n"
          ]
        }
      ],
      "source": [
        "response = requests.get(url=\"https://blog.khanacademy.org/khan-academy-now-available-in-50-languages/\",)\n",
        "print(\"API Status Code: \"+ str(response.status_code))\n",
        "soup = BeautifulSoup(response.content, 'html.parser')\n",
        "print(response.content)\n",
        "#test with other link but can not get"
      ]
    },
    {
      "cell_type": "code",
      "execution_count": 321,
      "metadata": {},
      "outputs": [
        {
          "output_type": "stream",
          "name": "stdout",
          "text": [
            "DONE! Mail Sent\n"
          ]
        }
      ],
      "source": [
        "send_email('lovelylife.158@gmail.com',\"To-do-4\",part1,part2,get_news(\"https://en.wikipedia.org/wiki/COVID-19\"))"
      ]
    },
    {
      "cell_type": "code",
      "metadata": {
        "id": "36c89M5BymVw"
      },
      "source": [
        "csv = \"\"\"email,contents,city\n",
        "lovelylife.158@gmail.com,News,London\n",
        "shoppingwithlu2020@gmail.com,Weather,Hanoi\n",
        "\"\"\"\n",
        "f = open('email_list.csv','w') ## write to text file\n",
        "f.write(csv)\n",
        "f.close()"
      ],
      "execution_count": 329,
      "outputs": []
    },
    {
      "cell_type": "code",
      "metadata": {
        "colab": {
          "base_uri": "https://localhost:8080/"
        },
        "id": "-yNfErkP20Pt",
        "outputId": "aaf39923-3fe0-4b9a-c98d-909bc6cd8d52"
      },
      "source": [
        "!dir"
      ],
      "execution_count": 330,
      "outputs": [
        {
          "output_type": "stream",
          "name": "stdout",
          "text": [
            " Volume in drive D is DATA\n Volume Serial Number is BA7D-8B78\n\n Directory of d:\\Github\\atom-assignments\\assignment_2\n\n05/15/2021  09:25 AM    <DIR>          .\n05/15/2021  09:25 AM    <DIR>          ..\n05/15/2021  03:08 AM         1,454,447 ATOM_Home_Assignment_2.ipynb\n05/16/2021  10:41 PM               103 email_list.csv\n05/15/2021  02:00 AM               151 env_variable.json\n05/15/2021  02:29 AM               116 weather.txt\n               4 File(s)      1,454,817 bytes\n               2 Dir(s)  87,857,238,016 bytes free\n"
          ]
        }
      ]
    },
    {
      "cell_type": "code",
      "metadata": {
        "id": "9BNju19j3B5d"
      },
      "source": [
        "import pandas as pd\n",
        "email_list = pd.read_csv('email_list.csv')"
      ],
      "execution_count": 331,
      "outputs": []
    },
    {
      "cell_type": "code",
      "metadata": {
        "colab": {
          "base_uri": "https://localhost:8080/",
          "height": 111
        },
        "id": "AsOSx3hT3Ih2",
        "outputId": "d88c855a-5a75-4be0-876b-939cad2e77f6"
      },
      "source": [
        "email_list"
      ],
      "execution_count": 332,
      "outputs": [
        {
          "output_type": "execute_result",
          "data": {
            "text/plain": [
              "                          email contents    city\n",
              "0      lovelylife.158@gmail.com     News  London\n",
              "1  shoppingwithlu2020@gmail.com  Weather   Hanoi"
            ],
            "text/html": "<div>\n<style scoped>\n    .dataframe tbody tr th:only-of-type {\n        vertical-align: middle;\n    }\n\n    .dataframe tbody tr th {\n        vertical-align: top;\n    }\n\n    .dataframe thead th {\n        text-align: right;\n    }\n</style>\n<table border=\"1\" class=\"dataframe\">\n  <thead>\n    <tr style=\"text-align: right;\">\n      <th></th>\n      <th>email</th>\n      <th>contents</th>\n      <th>city</th>\n    </tr>\n  </thead>\n  <tbody>\n    <tr>\n      <td>0</td>\n      <td>lovelylife.158@gmail.com</td>\n      <td>News</td>\n      <td>London</td>\n    </tr>\n    <tr>\n      <td>1</td>\n      <td>shoppingwithlu2020@gmail.com</td>\n      <td>Weather</td>\n      <td>Hanoi</td>\n    </tr>\n  </tbody>\n</table>\n</div>"
          },
          "metadata": {},
          "execution_count": 332
        }
      ]
    },
    {
      "cell_type": "markdown",
      "metadata": {
        "id": "lDxNcYmxq3zr"
      },
      "source": [
        "### TODO #5\n",
        "* Add các địa chỉ email có ý nghĩa, và thêm dòng vào file csv (lưu ý không có dấu cách)\n",
        "* Dùng code để gửi email cho một list từ csv:\n",
        "  - Nếu email có contents = 'News' => Gửi thông tin COVID19\n",
        "  - Nếu email có contents = 'Weather' => Gửi thông tin thời tiết theo thành phố trong cột city (lưu ý check các city được hỗ trợ trong API)\n",
        "\n",
        "**Hints:**\n",
        "* Sử dụng loops for ... in \n",
        "* Sử dụng function `send_email`, `get_weather_data`"
      ]
    },
    {
      "cell_type": "code",
      "metadata": {
        "colab": {
          "base_uri": "https://localhost:8080/"
        },
        "id": "EQ9nMwc93KS8",
        "outputId": "03570269-1b07-41f7-f98b-0a8ec0b411bd"
      },
      "source": [
        "for i in list(range(2)):\n",
        "  print('Email #{}'.format(i))\n",
        "  if email_list['contents'][i] == 'News':\n",
        "    print('COVID To: {}'.format(email_list['email'][i]))\n",
        "    # TODO: Send a COVID News\n",
        "    send_email(email_list['email'][i],\"News for new day\",part1,part2,get_news(\"https://en.wikipedia.org/wiki/COVID-19\"))\n",
        "  elif email_list['contents'][i] == 'Weather':\n",
        "    print('Weather To: {}'.format(email_list['email'][i]))\n",
        "    # TODO: Send a Weather updates by the city\n",
        "    send_email(email_list['email'][i],\"Good morning\",part1,part2,get_weather_data(email_list['city'][i]))\n",
        "  else:\n",
        "    print('Invalid Contents')\n",
        "print('DONE!')"
      ],
      "execution_count": 336,
      "outputs": [
        {
          "output_type": "stream",
          "name": "stdout",
          "text": [
            "Email #0\n",
            "COVID To: lovelylife.158@gmail.com\n",
            "DONE! Mail Sent\n",
            "Email #1\n",
            "Weather To: shoppingwithlu2020@gmail.com\n",
            "DONE! Mail Sent\n",
            "DONE!\n"
          ]
        }
      ]
    },
    {
      "cell_type": "code",
      "execution_count": null,
      "metadata": {},
      "outputs": [],
      "source": []
    }
  ]
}