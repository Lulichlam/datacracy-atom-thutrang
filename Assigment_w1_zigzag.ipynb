{
  "nbformat": 4,
  "nbformat_minor": 0,
  "metadata": {
    "colab": {
      "name": "Assigment_w1 _thutrang.ipynb",
      "provenance": [],
      "authorship_tag": "ABX9TyON2MWISEiaTmNVogOEHavE",
      "include_colab_link": true
    },
    "kernelspec": {
      "name": "python3",
      "display_name": "Python 3"
    },
    "language_info": {
      "name": "python"
    }
  },
  "cells": [
    {
      "cell_type": "markdown",
      "metadata": {
        "id": "view-in-github",
        "colab_type": "text"
      },
      "source": [
        "<a href=\"https://colab.research.google.com/github/Lulichlam/datacracy-atom-thutrang/blob/main/Assigment_w1_zigzag.ipynb\" target=\"_parent\"><img src=\"https://colab.research.google.com/assets/colab-badge.svg\" alt=\"Open In Colab\"/></a>"
      ]
    },
    {
      "cell_type": "code",
      "metadata": {
        "id": "PMgdhGXj_R2P",
        "outputId": "096d8a88-3f30-4779-dd8e-33c0aceaf524",
        "colab": {
          "base_uri": "https://localhost:8080/",
          "height": 860
        }
      },
      "source": [
        "import time, sys\n",
        "indent = 0 # How many spaces to indent.\n",
        "indentIncreasing = True # Whether the indentation is increasing or not.\n",
        "try:\n",
        "  while True: # The main program loop.\n",
        "    print(' ' * indent, end='')\n",
        "    print('********')\n",
        "    time.sleep(0.1) # Pause for 1/10 of a second.\n",
        "    if indentIncreasing:\n",
        "      # Increase the number of spaces:\n",
        "      indent = indent + 1\n",
        "      if indent == 20:\n",
        "        # Change direction:\n",
        "        indentIncreasing = False\n",
        "    else:\n",
        "      # Decrease the number of spaces:\n",
        "      indent = indent - 1\n",
        "      if indent == 0:\n",
        "        # Change direction:\n",
        "        indentIncreasing = True\n",
        "except KeyboardInterrupt:\n",
        "  sys.exit()"
      ],
      "execution_count": 14,
      "outputs": [
        {
          "output_type": "stream",
          "text": [
            "                   ********\n",
            "                  ********\n",
            "                 ********\n",
            "                ********\n",
            "               ********\n",
            "              ********\n",
            "             ********\n",
            "            ********\n",
            "           ********\n",
            "          ********\n",
            "         ********\n",
            "        ********\n",
            "       ********\n",
            "      ********\n",
            "     ********\n",
            "    ********\n",
            "   ********\n",
            "  ********\n",
            " ********\n",
            "********\n",
            " ********\n",
            "  ********\n",
            "   ********\n",
            "    ********\n",
            "     ********\n",
            "      ********\n",
            "       ********\n",
            "        ********\n",
            "         ********\n",
            "          ********\n",
            "           ********\n",
            "            ********\n",
            "             ********\n",
            "              ********\n",
            "               ********\n",
            "                ********\n",
            "                 ********\n",
            "                  ********\n",
            "                   ********\n",
            "                    ********\n",
            "                   ********\n",
            "                  ********\n"
          ],
          "name": "stdout"
        },
        {
          "output_type": "error",
          "ename": "SystemExit",
          "evalue": "ignored",
          "traceback": [
            "An exception has occurred, use %tb to see the full traceback.\n",
            "\u001b[0;31mSystemExit\u001b[0m\n"
          ]
        },
        {
          "output_type": "stream",
          "text": [
            "/usr/local/lib/python3.7/dist-packages/IPython/core/interactiveshell.py:2890: UserWarning: To exit: use 'exit', 'quit', or Ctrl-D.\n",
            "  warn(\"To exit: use 'exit', 'quit', or Ctrl-D.\", stacklevel=1)\n"
          ],
          "name": "stderr"
        }
      ]
    }
  ]
}